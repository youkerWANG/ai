{
 "cells": [
  {
   "cell_type": "code",
   "execution_count": 1,
   "metadata": {},
   "outputs": [],
   "source": [
    "import numpy as np\n",
    "import pandas as pd\n",
    "import matplotlib.pyplot as plt"
   ]
  },
  {
   "cell_type": "code",
   "execution_count": 8,
   "metadata": {},
   "outputs": [
    {
     "name": "stdout",
     "output_type": "stream",
     "text": [
      "<class 'pandas.core.frame.DataFrame'>\n",
      "RangeIndex: 891 entries, 0 to 890\n",
      "Data columns (total 12 columns):\n",
      " #   Column       Non-Null Count  Dtype  \n",
      "---  ------       --------------  -----  \n",
      " 0   PassengerId  891 non-null    int64  \n",
      " 1   Survived     891 non-null    int64  \n",
      " 2   Pclass       891 non-null    int64  \n",
      " 3   Name         891 non-null    object \n",
      " 4   Sex          891 non-null    object \n",
      " 5   Age          714 non-null    float64\n",
      " 6   SibSp        891 non-null    int64  \n",
      " 7   Parch        891 non-null    int64  \n",
      " 8   Ticket       891 non-null    object \n",
      " 9   Fare         891 non-null    float64\n",
      " 10  Cabin        204 non-null    object \n",
      " 11  Embarked     889 non-null    object \n",
      "dtypes: float64(2), int64(5), object(5)\n",
      "memory usage: 83.7+ KB\n"
     ]
    }
   ],
   "source": [
    "titannic = pd.read_csv(\"train.csv\")\n",
    "titannic.info()"
   ]
  },
  {
   "cell_type": "code",
   "execution_count": 10,
   "metadata": {},
   "outputs": [
    {
     "data": {
      "text/plain": [
       "((891, 8), (891,))"
      ]
     },
     "execution_count": 10,
     "metadata": {},
     "output_type": "execute_result"
    }
   ],
   "source": [
    "x_train = np.zeros([len(titannic), 8])\n",
    "y_train = titannic[\"Survived\"]\n",
    "\n",
    "x_train.shape, y_train.shape"
   ]
  },
  {
   "cell_type": "code",
   "execution_count": 20,
   "metadata": {},
   "outputs": [
    {
     "data": {
      "text/plain": [
       "['0', '0', '0', '0', '0', ..., '0', '0', '0', '0', '0']\n",
       "Length: 891\n",
       "Categories (3, object): ['0' < '1' < '2']"
      ]
     },
     "execution_count": 20,
     "metadata": {},
     "output_type": "execute_result"
    }
   ],
   "source": [
    "a= pd.cut(titannic[\"SibSp\"], bins=3, labels=[\"0\", \"1\", \"2\"])\n",
    "a.values"
   ]
  },
  {
   "cell_type": "code",
   "execution_count": 22,
   "metadata": {},
   "outputs": [],
   "source": [
    "#数据预处理\n",
    "# age\n",
    "x_train[:, 0] = titannic[\"Age\"].fillna(titannic[\"Age\"].median()).astype(float)\n",
    "# sex\n",
    "x_train[:, 1] = titannic[\"Sex\"].map({\"male\" : 0, \"female\" : 1}).astype(float)\n",
    "#pclass\n",
    "x_train[:, 2] = titannic[\"Pclass\"].map({3: 0, 2: 1, 1: 2}).astype(float)\n",
    "# Fare \n",
    "x_train[:, 3] = (titannic[\"Fare\"] - titannic[\"Fare\"].mean()) / titannic[\"Fare\"].std()\n",
    "# Embarked\n",
    "x_train[:, 4] = titannic[\"Fare\"].fillna(\"S\").map({\"S\": 0, \"Q\": 1, \"C\": 2}).astype(float)\n",
    "# SibSp\n",
    "x_train[:, 5] = pd.cut(titannic[\"SibSp\"], bins=3, labels=[\"0\", \"1\", \"2\"])\n",
    "# Cabin\n",
    "x_train[:, 6] = titannic['Cabin'].apply(lambda x: 0 if pd.isna(x) else 1)\n",
    "# Parch\n",
    "x_train[:, 7] = titannic['Parch'].apply(lambda x: 1 if x > 0 else 0)"
   ]
  }
 ],
 "metadata": {
  "kernelspec": {
   "display_name": "Python 3",
   "language": "python",
   "name": "python3"
  },
  "language_info": {
   "codemirror_mode": {
    "name": "ipython",
    "version": 3
   },
   "file_extension": ".py",
   "mimetype": "text/x-python",
   "name": "python",
   "nbconvert_exporter": "python",
   "pygments_lexer": "ipython3",
   "version": "3.10.6"
  },
  "orig_nbformat": 4
 },
 "nbformat": 4,
 "nbformat_minor": 2
}
