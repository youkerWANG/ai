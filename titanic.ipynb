{
 "cells": [
  {
   "cell_type": "code",
   "execution_count": null,
   "metadata": {},
   "outputs": [],
   "source": [
    "import numpy as np\n",
    "import pandas as pd\n",
    "import matplotlib.pyplot as plt\n",
    "import seaborn as sns"
   ]
  },
  {
   "cell_type": "code",
   "execution_count": null,
   "metadata": {},
   "outputs": [],
   "source": [
    "titannic = pd.read_csv(\"train.csv\")\n",
    "titannic.info()"
   ]
  },
  {
   "cell_type": "code",
   "execution_count": null,
   "metadata": {},
   "outputs": [],
   "source": [
    "sns.set_style('whitegrid')\n",
    "plt.figure(figsize=(8, 6))\n",
    "sns.histplot(data=titannic, x='SibSp', bins=range(0, 9), kde=False)\n",
    "plt.xlabel('Number of Siblings/Spouses')\n",
    "plt.ylabel('Count')\n",
    "plt.title('Distribution of SibSp')\n",
    "plt.show()"
   ]
  },
  {
   "cell_type": "code",
   "execution_count": null,
   "metadata": {},
   "outputs": [],
   "source": [
    "x_train = np.zeros([len(titannic), 8])\n",
    "y_train = titannic[\"Survived\"]\n",
    "\n",
    "x_train.shape, y_train.shape"
   ]
  },
  {
   "cell_type": "code",
   "execution_count": null,
   "metadata": {},
   "outputs": [],
   "source": [
    "a= pd.cut(titannic[\"SibSp\"], bins=3, labels=[\"0\", \"1\", \"2\"])\n",
    "a.values"
   ]
  },
  {
   "cell_type": "code",
   "execution_count": null,
   "metadata": {},
   "outputs": [],
   "source": [
    "# age\n",
    "x_train[:, 0] = titannic[\"Age\"].fillna(titannic[\"Age\"].median()).astype(float)\n",
    "# sex\n",
    "x_train[:, 1] = titannic[\"Sex\"].map({\"male\" : 0, \"female\" : 1}).astype(float)\n",
    "#pclass\n",
    "x_train[:, 2] = titannic[\"Pclass\"].map({3: 0, 2: 1, 1: 2}).astype(float)\n",
    "# Fare \n",
    "x_train[:, 3] = (titannic[\"Fare\"] - titannic[\"Fare\"].mean()) / titannic[\"Fare\"].std()\n",
    "# Embarked\n",
    "x_train[:, 4] = titannic[\"Embarked\"].fillna(\"S\").map({\"S\": 0, \"Q\": 1, \"C\": 2}).astype(float)\n",
    "# SibSp\n",
    "x_train[:, 5] = pd.cut(titannic[\"SibSp\"], bins=[-1, 3, 6, 8], labels=[0,1,2])\n",
    "# Cabin\n",
    "x_train[:, 6] = titannic['Cabin'].apply(lambda x: 0 if pd.isna(x) else 1)\n",
    "# Parch\n",
    "x_train[:, 7] = titannic['Parch'].apply(lambda x: 1 if x > 0 else 0)"
   ]
  },
  {
   "cell_type": "code",
   "execution_count": null,
   "metadata": {},
   "outputs": [],
   "source": [
    "def sigmoid(x):\n",
    "    return 1.0 / (1.0 + np.exp(-x))\n",
    "def hypothesis(w, x, b):\n",
    "    return sigmoid(x.dot(w) + b)\n",
    "def cost_function(h, y):\n",
    "    return -np.mean(y * np.log(h + 1e-8) + (1.0 - y) * np.log(1.0 - h + 1e-8))\n",
    "w = np.random.rand(8)\n",
    "b = np.random.rand()"
   ]
  },
  {
   "cell_type": "code",
   "execution_count": null,
   "metadata": {},
   "outputs": [],
   "source": [
    "epoch = 20000\n",
    "alpha = 0.01\n",
    "total_loss = []\n",
    "for i in range(epoch):\n",
    "    h = hypothesis(w, x_train, b)\n",
    "    loss = cost_function(h, y_train)\n",
    "\n",
    "    for j in range(8):\n",
    "        w[j] = w[j] - alpha * np.mean((h - y_train) * x_train[:, j])\n",
    "    b = b - alpha * np.mean((h - y_train))\n",
    "    total_loss.append(loss)\n",
    "    print(f\"epoch ={i}, loss={loss}\")\n",
    "total_loss = np.array(total_loss)"
   ]
  },
  {
   "cell_type": "code",
   "execution_count": null,
   "metadata": {},
   "outputs": [],
   "source": [
    "plt.plot(10.0 * np.log(total_loss / (np.max(total_loss + 1e-5))))\n",
    "plt.show()"
   ]
  },
  {
   "cell_type": "code",
   "execution_count": null,
   "metadata": {},
   "outputs": [],
   "source": [
    "titannic_test = pd.read_csv(\"test.csv\")\n",
    "x_test = np.zeros([len(titannic_test), 8])\n",
    "x_test.shape"
   ]
  },
  {
   "cell_type": "code",
   "execution_count": null,
   "metadata": {},
   "outputs": [],
   "source": [
    "#数据预处理\n",
    "# age\n",
    "x_test[:, 0] = titannic_test[\"Age\"].fillna(titannic_test[\"Age\"].median()).astype(float)\n",
    "# sex\n",
    "x_test[:, 1] = titannic_test[\"Sex\"].map({\"male\" : 0, \"female\" : 1}).astype(float)\n",
    "#pclass\n",
    "x_test[:, 2] = titannic_test[\"Pclass\"].map({3: 0, 2: 1, 1: 2}).astype(float)\n",
    "# Fare \n",
    "x_test[:, 3] = (titannic_test[\"Fare\"] - titannic_test[\"Fare\"].mean()) / titannic_test[\"Fare\"].std()\n",
    "# Embarked\n",
    "x_test[:, 4] = titannic_test[\"Embarked\"].fillna(\"S\").map({\"S\": 0, \"Q\": 1, \"C\": 2}).astype(float)\n",
    "# SibSp\n",
    "x_test[:, 5] = pd.cut(titannic_test[\"SibSp\"], bins=3, labels=[\"0\", \"1\", \"2\"])\n",
    "# Cabin\n",
    "x_test[:, 6] = titannic_test['Cabin'].apply(lambda x: 0 if pd.isna(x) else 1)\n",
    "# Parch\n",
    "x_test[:, 7] = titannic_test['Parch'].apply(lambda x: 1 if x > 0 else 0)"
   ]
  },
  {
   "cell_type": "code",
   "execution_count": null,
   "metadata": {},
   "outputs": [],
   "source": [
    "z = titannic_test['Cabin'].apply(lambda x: 0 if pd.isna(x) else 1)\n",
    "z.values"
   ]
  },
  {
   "cell_type": "code",
   "execution_count": null,
   "metadata": {},
   "outputs": [],
   "source": [
    "y_pred = hypothesis(w, x_test, b)\n",
    "y_pred = np.round(y_pred)\n",
    "print(y_pred.shape)"
   ]
  },
  {
   "cell_type": "code",
   "execution_count": null,
   "metadata": {},
   "outputs": [],
   "source": [
    "submission = pd.DataFrame({\n",
    "\"PassengerId\" : titannic_test[\"PassengerId\"].astype(int),\n",
    "\"Survived\" : y_pred.astype(int)\n",
    "})\n",
    "# 구글 코랩에 대한 파일 경로를 추가하자!\n",
    "submission.to_csv(\"/home/miku/Documents/ai/result.csv\", index=False)"
   ]
  }
 ],
 "metadata": {
  "kernelspec": {
   "display_name": "Python 3",
   "language": "python",
   "name": "python3"
  },
  "language_info": {
   "codemirror_mode": {
    "name": "ipython",
    "version": 3
   },
   "file_extension": ".py",
   "mimetype": "text/x-python",
   "name": "python",
   "nbconvert_exporter": "python",
   "pygments_lexer": "ipython3",
   "version": "3.10.6"
  },
  "orig_nbformat": 4
 },
 "nbformat": 4,
 "nbformat_minor": 2
}
